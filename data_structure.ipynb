{
 "cells": [
  {
   "cell_type": "markdown",
   "metadata": {},
   "source": [
    "# Data Structure\n",
    "\n",
    "进入编程的第一步，我希望读者能从了解数据结构开始。数据结构是我们编程的基石，了解 `python` 的多种数据结构，可以帮助我们快速将现实世界的内容建模称代码模型。\n",
    "\n",
    "## Variable and const\n",
    "\n",
    "写代码首先要理解什么是变量，什么是常量。顾名思义，变量是在程序运行中，其值能够改变的量，而常量则是固定的，不可变的。而无论是变量还是常量，都可以是不同的数据类型。下面将介绍几种常见的数据类型。"
   ]
  },
  {
   "cell_type": "markdown",
   "metadata": {},
   "source": [
    "## Data Type\n",
    "\n",
    "### Number\n",
    "\n",
    "`python` 的支持多种类型的数字，整数、浮点数甚至分数（需要额外的包）、向量（需要包）等，以及一系列地数学运算，下面介绍最基础的 `int` 类型和 `float` 类型。\n",
    "\n",
    "#### Integer\n",
    "\n",
    "整型。这种数据类型粗浅地理解就对应数学中的整数，但实际上如果从计算机二进制编码的角度看，不同的整型对应不同的编码位数，能够表示的有限整数几何的大小也不同。比如一个占 32 位编码的整型能够表示的整数范围应该在 $-2^{31} \\sim 2^{31} - 1$，但是 `python` 位数学计算做了优化，因此它的整型比较复杂，这里读者只需要将其当成整数集合理解就好。"
   ]
  },
  {
   "cell_type": "code",
   "execution_count": null,
   "metadata": {},
   "outputs": [],
   "source": [
    "a = 3\n",
    "a, type(a)"
   ]
  },
  {
   "cell_type": "markdown",
   "metadata": {},
   "source": [
    "#### Float\n",
    "\n",
    "浮点数。这种数据类型通常用于表示小数，一般采用 `IEEE` 编码，用 32 位二进制存储，感兴趣的读者可以自行查阅资料。"
   ]
  },
  {
   "cell_type": "code",
   "execution_count": null,
   "metadata": {},
   "outputs": [],
   "source": [
    "b = 3.1415926\n",
    "b, type(b)"
   ]
  },
  {
   "cell_type": "markdown",
   "metadata": {},
   "source": [
    "#### Calculate\n",
    "\n",
    "数字可以用来做各种数学运算，包括四则运算，幂运算等等。"
   ]
  },
  {
   "cell_type": "code",
   "execution_count": null,
   "metadata": {},
   "outputs": [],
   "source": [
    "c = 1 + 2\n",
    "d = 3 - 4\n",
    "e = 1 / 3\n",
    "f = 5 * 5\n",
    "g = 5**2\n",
    "c, d, e, f, g"
   ]
  },
  {
   "cell_type": "markdown",
   "metadata": {},
   "source": [
    "### String\n",
    "\n",
    "除了数字 `python` 还可以操作文本（由 `str` 类型表示，称为“字符串”）。这包括字符 `\"!\"`，单词 `\"rabbit\"`，名称 `\"Paris\"`，句子 `\"Got your back.\"` 等等。它们可以用成对的单引号 `'...'` 或双引号 `\"...\"` 来表示。"
   ]
  },
  {
   "cell_type": "code",
   "execution_count": null,
   "metadata": {},
   "outputs": [],
   "source": [
    "h = \"Hello World!\"\n",
    "i = '\"你好“，他说。'\n",
    "h, i"
   ]
  },
  {
   "cell_type": "markdown",
   "metadata": {},
   "source": [
    "字符类型也支持一些运算，比如 `+` 运算可以讲两个字符串进行拼接，`*` 运算可以重复一个模式。"
   ]
  },
  {
   "cell_type": "code",
   "execution_count": null,
   "metadata": {},
   "outputs": [],
   "source": [
    "h + i, h * 3 + i"
   ]
  },
  {
   "cell_type": "markdown",
   "metadata": {},
   "source": [
    "字符串还支持索引操作，这其实和其实现原理有关。从本质上讲，字符串其实可以理解为一个 `list`，每个索引对应一个字符，这部分在后面讲完 `list` 之后再说。另外，字符串的值是不可以改变的，它是 `immutable` 类型。"
   ]
  },
  {
   "cell_type": "code",
   "execution_count": null,
   "metadata": {},
   "outputs": [],
   "source": [
    "word = 'Python'\n",
    "\n",
    "word[0] = 'J'\n",
    "\n",
    "word"
   ]
  },
  {
   "cell_type": "markdown",
   "metadata": {},
   "source": [
    "## List\n",
    "\n",
    "`list` 即列表，是 `python` 中的一个非常常用的数据结构。类似 C 语言中的数组，表示计算机中的一块连续的储存空间，可以用索引或指针来访问其值，只是列表中的元素可以是多种类型同时存在。理解 `python` 的列表，可以把它当做一个内部有序的盒子，元素在其中根据加入的顺序排列好，每个元素在进入盒子后会被赋予一个编号，用户可以通过编号来找到对应的元素，这个编号就是数组的索引。\n",
    "\n",
    "### Index\n",
    "\n",
    "`python` 列表的索引从 $0$ 开始，递增排列，同时可以用负数作为索引倒序访问列表，$-1$ 表示最后一个元素，依次类推。"
   ]
  },
  {
   "cell_type": "code",
   "execution_count": null,
   "metadata": {},
   "outputs": [],
   "source": [
    "squares = [1, 4, 9, 16, 25]\n",
    "\n",
    "squares[0], squares[1], squares[-1], squares[-2]"
   ]
  },
  {
   "cell_type": "markdown",
   "metadata": {},
   "source": [
    "### Slice\n",
    "\n",
    "像列表这样的数据结构在 `python` 中叫做 `sequence` 类型数据结构，它们出了支持索引访问元素外，还支持利用切片来访问。"
   ]
  },
  {
   "cell_type": "code",
   "execution_count": null,
   "metadata": {},
   "outputs": [],
   "source": [
    "squares[1:], squares[:3]"
   ]
  },
  {
   "cell_type": "markdown",
   "metadata": {},
   "source": [
    "并且，对列表也可以做一些简单地运算，两个列表做 `+` 可以将其拼接。另外，不同于字符串，列表可以内的值可以修改，它是 `mutable` 类型."
   ]
  },
  {
   "cell_type": "code",
   "execution_count": null,
   "metadata": {},
   "outputs": [],
   "source": [
    "subsquares = [36, 49, 64, 81]\n",
    "squares[3] = 64\n",
    "squares + subsquares"
   ]
  },
  {
   "cell_type": "markdown",
   "metadata": {},
   "source": [
    "### Operations\n",
    "\n",
    "对列表还可以做很多高级的操作：\n",
    "\n",
    "- `list.append(element)`：在列表末尾添加一个 `element` ；\n",
    "- `list.extend(iterable)`：用可迭代对象的元素扩展列表，相当于 `a[len(a):] = iterable`；\n",
    "- `list.insert(index, element)`：在指定位置插入元素；\n",
    "- `list.remove(element)`：删除列表中第一个值为 `element` 的元素；\n",
    "- `list.pop([index])`：移除列表中给定位置上的条目，并返回该条目。 如果未指定索引号，则 `a.pop()` 将移除并返回列表中的最后一个条目。 如果列表为空或索引号在列表索引范围之外则会引发 IndexError。\n",
    "- `list.clear()`：删除列表里的所有元素，相当于 `del a[:]`。\n",
    "- `list.index(element)`：返回列表中第一个值为 `element` 的元素的索引。可选参数 `[start, end]` 可以指定搜索范围；\n",
    "- `list.count(element)`：返回列表中值为 `element` 的元素的个数；\n",
    "- `list.sort()`：就地对列表排序；\n",
    "- `list.reverse()`：将列表就地反序；\n",
    "- `list.copy()`：返回列表的浅拷贝。"
   ]
  },
  {
   "cell_type": "markdown",
   "metadata": {},
   "source": [
    "### 列表推导式\n",
    "\n",
    "列表推导式创建列表的方式更简洁。常见的用法为，对序列或可迭代对象中的每个元素应用某种操作，用生成的结果创建新的列表；或用满足特定条件的元素创建子序列。列表推导式的方括号内包含以下内容：一个表达式，后面为一个 for 子句，然后，是零个或多个 for 或 if 子句。结果是由表达式依据 for 和 if 子句求值计算而得出一个新列表。 "
   ]
  },
  {
   "cell_type": "code",
   "execution_count": null,
   "metadata": {},
   "outputs": [],
   "source": [
    "[x**2 for x in range(10)], [(x, y) for x in [1,2,3] for y in [3,1,4] if x != y]"
   ]
  },
  {
   "cell_type": "markdown",
   "metadata": {},
   "source": [
    "等价于："
   ]
  },
  {
   "cell_type": "code",
   "execution_count": null,
   "metadata": {},
   "outputs": [],
   "source": [
    "example = []\n",
    "for x in range(10):\n",
    "    example.append(x**2)\n",
    "\n",
    "example_b = []\n",
    "for x in [1, 2, 3]:\n",
    "    for y in [3, 1, 4]:\n",
    "        if x != y:\n",
    "            example_b.append((x, y))\n",
    "\n",
    "example, example_b"
   ]
  },
  {
   "cell_type": "markdown",
   "metadata": {},
   "source": [
    "这样的推导式还可以嵌套："
   ]
  },
  {
   "cell_type": "code",
   "execution_count": null,
   "metadata": {},
   "outputs": [],
   "source": [
    "matrix = [\n",
    "    [1, 2, 3, 4],\n",
    "    [2, 3, 4, 5],\n",
    "    [3, 4, 5, 6]\n",
    "]\n",
    "\n",
    "[[row[i] for row in matrix] for i in range(4)]"
   ]
  },
  {
   "cell_type": "markdown",
   "metadata": {},
   "source": [
    "等价于："
   ]
  },
  {
   "cell_type": "code",
   "execution_count": null,
   "metadata": {},
   "outputs": [],
   "source": [
    "trans = []\n",
    "for i in range(4):\n",
    "    trans.append([row[i] for row in matrix])\n",
    "\n",
    "trans"
   ]
  },
  {
   "cell_type": "markdown",
   "metadata": {},
   "source": [
    "我们用一行代码实现了矩阵转置。\n",
    "\n",
    "## Tuple and squence\n",
    "\n",
    "列表和字符串有很多共性，例如，索引和切片操作。这两种数据类型是“序列”。随着 Python 语言的发展，其他的序列类型也被加入其中。本节介绍另一种标准序列类型：元组。\n",
    "\n",
    "元组由多个用逗号隔开的值组成，例如："
   ]
  },
  {
   "cell_type": "code",
   "execution_count": null,
   "metadata": {},
   "outputs": [],
   "source": [
    "t = 12345, 54321, 'hello!'\n",
    "u = t, (1, 2, 3, 4, 5)\n",
    "\n",
    "t[0], t, u"
   ]
  },
  {
   "cell_type": "markdown",
   "metadata": {},
   "source": [
    "输出时，元组都要由圆括号标注，这样才能正确地解释嵌套元组。输入时，圆括号可有可无，不过经常是必须的（如果元组是更大的表达式的一部分）。不允许为元组中的单个元素赋值，当然，可以创建含列表等可变对象的元组。\n",
    "\n",
    "虽然，元组与列表很像，但使用场景不同，用途也不同。元组是 `immutable`（不可变的），一般可包含异质元素序列，通过解包或索引访问（如果是 `namedtuples`，可以属性访问）。列表是 `mutable`（可变的），列表元素一般为同质类型，可迭代访问。\n",
    "\n",
    "构造 0 个或 1 个元素的元组比较特殊：为了适应这种情况，对句法有一些额外的改变。用一对空圆括号就可以创建空元组；只有一个元素的元组可以通过在这个元素后添加逗号来构建（圆括号里只有一个值的话不够明确）。丑陋，但是有效。例如："
   ]
  },
  {
   "cell_type": "code",
   "execution_count": null,
   "metadata": {},
   "outputs": [],
   "source": [
    "empty = ()\n",
    "\n",
    "singleton = 'hello', \n",
    "\n",
    "len(empty), len(singleton), empty, singleton"
   ]
  },
  {
   "cell_type": "markdown",
   "metadata": {},
   "source": [
    "## Set\n",
    "\n",
    "Python 还支持 集合 这种数据类型。集合是由不重复元素组成的无序容器。基本用法包括成员检测、消除重复元素。集合对象支持合集、交集、差集、对称差分等数学运算。\n",
    "\n",
    "创建集合用花括号或 `set()` 函数。\n",
    "\n",
    ">注意，创建空集合只能用 `set()`，不能用 `{}`，`{}` 创建的是空字典，下一小节介绍数据结构：字典。"
   ]
  },
  {
   "cell_type": "code",
   "execution_count": null,
   "metadata": {},
   "outputs": [],
   "source": [
    "basket = {'apple', 'orange', 'apple', 'pear', 'orange', 'banana'}\n",
    "a = set('abracadabra')\n",
    "b = set('alacazam')\n",
    "\n",
    "basket, 'orange' in basket, 'crabgrass' in basket, a, b, a - b, a | b, a & b, a ^ b"
   ]
  },
  {
   "cell_type": "markdown",
   "metadata": {},
   "source": [
    "与列表推导式类似，集合也支持推导式："
   ]
  },
  {
   "cell_type": "code",
   "execution_count": null,
   "metadata": {},
   "outputs": [],
   "source": [
    "a = {x for x in 'abracadabra' if x not in 'abc'}\n",
    "\n",
    "a"
   ]
  },
  {
   "cell_type": "markdown",
   "metadata": {},
   "source": [
    "## Dict\n",
    "\n",
    "另一个非常有用的 `python` 内置数据类型是字典。字典在其他语言中可能会被称为“关联存储”或“关联数组”。不同于以固定范围的数字进行索引的序列，字典是以 `key` 进行索引的，`key` 可以是任何不可变类型；字符串和数字总是可以作为键。如果一个元组只包含字符串、数字或元组则也可以作为键；如果一个元组直接或间接地包含了任何可变对象，则不能作为键。列表不能作为键，因为列表可以使用索引赋值、切片赋值或者 `append()` 和 `extend()` 等方法进行原地修改列表。\n",
    "\n",
    "可以把字典理解为键值对的集合，但字典的键必须是唯一的。花括号 `{}` 用于创建空字典。另一种初始化字典的方式是，在花括号里输入逗号分隔的键值对，这也是字典的输出方式。\n",
    "\n",
    "字典的主要用途是通过关键字存储、提取值。用 `del` 可以删除键值对。用已存在的关键字存储值，与该关键字关联的旧值会被取代。通过不存在的键提取值，则会报错。\n",
    "\n",
    "对字典执行 `list(d)` 操作，返回该字典中所有键的列表，按插入次序排列（如需排序，请使用 `sorted(d)）`。检查字典里是否存在某个键，使用关键字 `in`。"
   ]
  },
  {
   "cell_type": "code",
   "execution_count": null,
   "metadata": {},
   "outputs": [],
   "source": [
    "tel = {'jack': 4098, 'sape': 4139}\n",
    "tel['guido'] = 4127\n",
    "del tel['sape']\n",
    "tel['irv'] = 4127\n",
    "\n",
    "tel, tel['jack'], list(tel), sorted(tel), 'guido' in tel, 'jack' not in tel"
   ]
  },
  {
   "cell_type": "markdown",
   "metadata": {},
   "source": [
    "字典推导式可以用任意键值表达式创建字典："
   ]
  },
  {
   "cell_type": "code",
   "execution_count": null,
   "metadata": {},
   "outputs": [],
   "source": [
    "{x: x**2 for x in (2, 4, 6)}"
   ]
  },
  {
   "cell_type": "markdown",
   "metadata": {},
   "source": [
    "## Summary\n",
    "\n",
    "到此我们就介绍完了 `python` 里的一些比较基本的数据类型和数据结构，读者可以自行探索它们之间的差别，思考其应用场景。"
   ]
  },
  {
   "cell_type": "markdown",
   "metadata": {},
   "source": [
    "## Assignment\n",
    "\n",
    "1. 思考如何实现向量和矩阵的表达。\n",
    "2. 完成向量和矩阵的加减法运算。"
   ]
  }
 ],
 "metadata": {
  "kernelspec": {
   "display_name": "Python 3 (ipykernel)",
   "language": "python",
   "name": "python3"
  },
  "language_info": {
   "codemirror_mode": {
    "name": "ipython",
    "version": 3
   },
   "file_extension": ".py",
   "mimetype": "text/x-python",
   "name": "python",
   "nbconvert_exporter": "python",
   "pygments_lexer": "ipython3",
   "version": "3.12.4"
  }
 },
 "nbformat": 4,
 "nbformat_minor": 4
}
