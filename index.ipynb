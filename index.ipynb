{
 "cells": [
  {
   "cell_type": "markdown",
   "metadata": {},
   "source": [
    "# Python tutorial\n",
    "\n",
    "简明 `python` 教程，本教程旨在介绍 `python` 的常用操作和一些基础的数据结构、编程技巧。如果想要系统、深度地学习 `python`，请移步[官方教程文档](https://docs.python.org/zh-cn/3/tutorial/index.html)。\n",
    "\n",
    "## Table of Contents\n",
    "\n",
    "- [Before we start](./preparations.ipynb): Some basic knowledge of coding.\n",
    "- [`python` interpreter](./interpreter.ipynb) (`python` 解释器): A tool to run `python` code.\n",
    "- [Data structure](./data_structure.ipynb) (数据结构): Basic of programming.\n",
    "- [Control Flow Tools](./control_flow.ipynb) (控制流工具): Constructer more complex coding structure.\n",
    "- Module (模块): Create your own `python` packages.\n",
    "- Input and output (输入输出): Comunicate with your code.\n",
    "- Error and exception (错误和异常处理): When your code goes wrong.\n",
    "- Classes (类): The core of `python`.\n",
    "\n",
    "## Tips\n",
    "\n",
    "### Usage\n",
    "\n",
    "本教程采用 `Jupyter-Notebook` 编写，这是数据科学的常用工具之一。该工具支持 `Markdown`、$\\LaTeX$ 编写文档，同时可以调用 `python interpreter` 运行 `python` 代码，非常适合用来做一些与代码和文字相关的工作。关于 `Jupyter-Notebook` 的使用参见本教程的[准备部分](./preparations.ipynb)。\n",
    "\n",
    "### English expression of some basic concepts\n",
    "\n",
    "本教程的许多术语我都会用英文来表达，目的是帮助读者提前熟悉这些概念，有助于今后阅读英文的 `python` 工具文档。"
   ]
  }
 ],
 "metadata": {
  "kernelspec": {
   "display_name": "Python 3 (ipykernel)",
   "language": "python",
   "name": "python3"
  },
  "language_info": {
   "codemirror_mode": {
    "name": "ipython",
    "version": 3
   },
   "file_extension": ".py",
   "mimetype": "text/x-python",
   "name": "python",
   "nbconvert_exporter": "python",
   "pygments_lexer": "ipython3",
   "version": "3.12.4"
  }
 },
 "nbformat": 4,
 "nbformat_minor": 4
}
